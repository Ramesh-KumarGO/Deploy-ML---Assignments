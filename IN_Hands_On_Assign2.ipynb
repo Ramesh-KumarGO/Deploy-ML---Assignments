{
 "cells": [
  {
   "cell_type": "code",
   "execution_count": 14,
   "metadata": {},
   "outputs": [
    {
     "data": {
      "text/plain": [
       "6"
      ]
     },
     "execution_count": 14,
     "metadata": {},
     "output_type": "execute_result"
    }
   ],
   "source": [
    "# Assignment2:\n",
    "# Task1;Question1.1\n",
    "\n",
    "def pr_of_num(num1, num2):\n",
    "    ''' return the product of given numbers'''\n",
    "    return num1 * num2\n",
    "\n",
    "def myreduce(func,seq):\n",
    "    '''  apply the given function on every element in the sequence'''\n",
    "    val = seq[0]\n",
    "    for i in seq[1:]:\n",
    "        val= func(val, i)\n",
    "    return val\n",
    "    \n",
    "myreduce(pr_of_num, [1,2,3])"
   ]
  },
  {
   "cell_type": "code",
   "execution_count": 35,
   "metadata": {},
   "outputs": [
    {
     "data": {
      "text/plain": [
       "[5, 10, 15, 20]"
      ]
     },
     "execution_count": 35,
     "metadata": {},
     "output_type": "execute_result"
    }
   ],
   "source": [
    "#Task1;question1.2:\n",
    "\n",
    "def pr_of_5(num):\n",
    "    \"\"\" return true if and only if the given number is dicisible by 5\"\"\"\n",
    "    if num%5==0:\n",
    "        return True\n",
    "    else:\n",
    "        return False\n",
    "    \n",
    "lst=[]    \n",
    "\n",
    "def myfilter(func,seq):\n",
    "    \"\"\" filter the given sequence by applying the given function that evaluates to true\"\"\"\n",
    "    for e in seq:\n",
    "        ele = func(e)\n",
    "        if ele == True:\n",
    "            lst.append(e)\n",
    "    return lst\n",
    "    \n",
    "myfilter(pr_of_5, [3,5,6,9,10,12,15,18,20])"
   ]
  },
  {
   "cell_type": "code",
   "execution_count": 127,
   "metadata": {},
   "outputs": [
    {
     "name": "stdout",
     "output_type": "stream",
     "text": [
      "['A', 'C', 'A', 'D', 'G', 'I', 'L', 'D']\n",
      "['x', 'xx', 'xxx', 'xxxx', 'y', 'yy', 'yyy', 'yyyy', 'z', 'zz', 'zzz', 'zzzz']\n",
      "['x', 'y', 'z', 'xx', 'yy', 'zz', 'xx', 'yy', 'zz', 'xxxx', 'yyyy', 'zzzz']\n",
      "[[2], [3], [4], [3], [4], [5], [4], [5], [6]]\n",
      "[[2, 3, 4, 5], [3, 4, 5, 6], [4, 5, 6, 7], [5, 6, 7, 8]]\n",
      "[(1, 1), (2, 1), (3, 1), (1, 2), (2, 2), (3, 2), (1, 3), (2, 3), (3, 3)]\n"
     ]
    }
   ],
   "source": [
    "#Task1;Question2\n",
    "\n",
    "#['A', 'C', 'A', 'D', 'G', 'I', ’L’, ‘ D’]\n",
    "msg = 'ACADGILD'\n",
    "lst_1 = [ch for ch in msg]\n",
    "print(lst_1)\n",
    "\n",
    "#['x', 'xx', 'xxx', 'xxxx', 'y', 'yy', 'yyy', 'yyyy', 'z', 'zz', 'zzz', 'zzzz']\n",
    "lst_2 = [ch*i for ch in ['x','y','z'] for i in range(1,len(['x','y','z'])+2)]\n",
    "print(lst_2)\n",
    "\n",
    "#['x', 'y', 'z', 'xx', 'yy', 'zz', 'xx', 'yy', 'zz', 'xxxx', 'yyyy', 'zzzz']\n",
    "lst_3 = [ch*i for i in [1,2,2,4] for ch in ['x','y','z'] ]\n",
    "print(lst_3)\n",
    "\n",
    "#[[2], [3], [4], [3], [4], [5], [4], [5], [6]]\n",
    "lst_4 =[[i+ item] for i in range(2,5) for item in range(3)]\n",
    "print(lst_4)\n",
    "\n",
    "#[[2, 3, 4, 5], [3, 4, 5, 6], [4, 5, 6, 7], [5, 6, 7, 8]]\n",
    "lst_5 =[[sq+n for sq in range(2,6)] for n in range(4) ]\n",
    "print(lst_5)\n",
    "\n",
    "#[(1, 1), (2, 1), (3, 1), (1, 2), (2, 2), (3, 2), (1, 3), (2, 3), (3, 3)]\n",
    "lst_6 = [(y,t) for t in range(1,4) for y in range(1,4)]\n",
    "print(lst_6)"
   ]
  },
  {
   "cell_type": "code",
   "execution_count": 63,
   "metadata": {},
   "outputs": [
    {
     "data": {
      "text/plain": [
       "'Ramesh'"
      ]
     },
     "execution_count": 63,
     "metadata": {},
     "output_type": "execute_result"
    }
   ],
   "source": [
    "#Task1;Question3\n",
    "\n",
    "#longestword function\n",
    "\n",
    "def longest_word(wl):\n",
    "    \"\"\" take a list of words and return the longest word in from the list \"\"\"\n",
    "    len_lst=[]\n",
    "    for it in wl:\n",
    "        length = len(str(it))\n",
    "        len_lst.append(length)\n",
    "    \n",
    "    max_len = max(len_lst)\n",
    "    \n",
    "    for l in range(len(len_lst)):\n",
    "        if max_len == len_lst[l]:\n",
    "            max_len_w = wl[l]\n",
    "    \n",
    "    return max_len_w\n",
    "\n",
    "longest_word(['Ramesh', 'Kum',123])"
   ]
  },
  {
   "cell_type": "code",
   "execution_count": 94,
   "metadata": {},
   "outputs": [
    {
     "name": "stdout",
     "output_type": "stream",
     "text": [
      "Enter length of side 1 : 3\n",
      "Enter length of side 2 : 4\n",
      "Enter length of side 3 : 5\n"
     ]
    },
    {
     "data": {
      "text/plain": [
       "'Area of 3 sided Triangle is 6.0'"
      ]
     },
     "execution_count": 94,
     "metadata": {},
     "output_type": "execute_result"
    }
   ],
   "source": [
    "#Task2;Question 1.1\n",
    "\n",
    "class areaOfShape():\n",
    "    \n",
    "    def __init__(self, sides):\n",
    "        self.sides =sides\n",
    "        self.lst=[]\n",
    "        \n",
    "    def getsides(self):\n",
    "        for i in range(self.sides):\n",
    "            val = int(input(\"Enter length of side {} : \".format(i+1)))\n",
    "            self.lst.append(val)\n",
    "                \n",
    "                \n",
    "class  trig_area(areaOfShape):\n",
    "    \n",
    "    def __init__(self,side):\n",
    "        super().__init__(side)\n",
    "        \n",
    "        \n",
    "    def calc_area(self):\n",
    "        a,b,c = self.lst\n",
    "        s = (a + b +c)/2\n",
    "        area = (s*(s-a)*(s-b)*(s-c)) ** 0.5\n",
    "        return \"Area of {} sided Triangle is {}\". format(self.sides,area)\n",
    "\n",
    "    \n",
    "\n",
    "t1 = trig_area(3)\n",
    "t1.getsides()\n",
    "t1.calc_area()\n",
    "        \n",
    "        \n"
   ]
  },
  {
   "cell_type": "code",
   "execution_count": 12,
   "metadata": {},
   "outputs": [
    {
     "name": "stdout",
     "output_type": "stream",
     "text": [
      "Enter list of words: @@@### eee ream sssffsh\n",
      "Input list of words received: ['@@@###', 'eee', 'ream', 'sssffsh']\n",
      "Enter an length integer :4\n"
     ]
    },
    {
     "data": {
      "text/plain": [
       "['@@@###', 'sssffsh']"
      ]
     },
     "execution_count": 12,
     "metadata": {},
     "output_type": "execute_result"
    }
   ],
   "source": [
    "#Task2;Question 1.2\n",
    "\n",
    "#filter_long_words\n",
    "#Write a function filter_long_words() that takes a list of words and an integer n and returns the list\n",
    "#of words that are longer than n.\n",
    "\n",
    "def filter_long_word(wrd,n):\n",
    "    lst_of_wrds =[]\n",
    "    for i in wrd:\n",
    "        wrd_len = len(i)\n",
    "        if wrd_len > n:\n",
    "            lst_of_wrds.append(i)\n",
    "    return lst_of_wrds\n",
    "    \n",
    "\n",
    "wrds_lst = input(\"Enter list of words: \").split()\n",
    "print(\"Input list of words received:\", wrds_lst)\n",
    "while True:\n",
    "    try:\n",
    "        word_len = int(input(\"Enter an length integer :\"))\n",
    "        \n",
    "    except:\n",
    "        print(\"Enter valid integer as input\")\n",
    "    else:\n",
    "        break\n",
    "        \n",
    "filter_long_word(wrds_lst, word_len)\n"
   ]
  },
  {
   "cell_type": "code",
   "execution_count": 5,
   "metadata": {},
   "outputs": [
    {
     "name": "stdout",
     "output_type": "stream",
     "text": [
      "Enter list of words separated by space: ram ram ra\n"
     ]
    },
    {
     "data": {
      "text/plain": [
       "[3, 3, 2]"
      ]
     },
     "execution_count": 5,
     "metadata": {},
     "output_type": "execute_result"
    }
   ],
   "source": [
    "#Task2;Question 2.1\n",
    "\n",
    "def count_len(word_lst):\n",
    "    ''' Takes a list of words as input and returns the length of words as list '''\n",
    "    lst_len=[]\n",
    "    for w in word_lst:\n",
    "        st_word = w.strip()\n",
    "        w_len = len(st_word)\n",
    "        lst_len.append(w_len)\n",
    "    return lst_len\n",
    "\n",
    "word_lst = (input(\"Enter list of words separated by space: \").split())\n",
    "\n",
    "count_len(word_lst)"
   ]
  },
  {
   "cell_type": "code",
   "execution_count": 126,
   "metadata": {},
   "outputs": [
    {
     "name": "stdout",
     "output_type": "stream",
     "text": [
      "Enter a character: q\n"
     ]
    },
    {
     "data": {
      "text/plain": [
       "False"
      ]
     },
     "execution_count": 126,
     "metadata": {},
     "output_type": "execute_result"
    }
   ],
   "source": [
    "#Task2;Question 2.2\n",
    "\n",
    "def is_vowel(ch):\n",
    "    ''' check the given char is a Vowel or not, return True is Vowel else return False'''\n",
    "    vow_lst = ['a','e','i','o','u','A','E','I','O','U']\n",
    "    for c in vow_lst:\n",
    "        if ch == c:\n",
    "            return True\n",
    "    else:\n",
    "        return False\n",
    "    \n",
    "char = input(\"Enter a character: \")\n",
    "is_vowel(char)"
   ]
  },
  {
   "cell_type": "code",
   "execution_count": null,
   "metadata": {},
   "outputs": [],
   "source": []
  }
 ],
 "metadata": {
  "kernelspec": {
   "display_name": "Python 3",
   "language": "python",
   "name": "python3"
  },
  "language_info": {
   "codemirror_mode": {
    "name": "ipython",
    "version": 3
   },
   "file_extension": ".py",
   "mimetype": "text/x-python",
   "name": "python",
   "nbconvert_exporter": "python",
   "pygments_lexer": "ipython3",
   "version": "3.7.3"
  }
 },
 "nbformat": 4,
 "nbformat_minor": 2
}
